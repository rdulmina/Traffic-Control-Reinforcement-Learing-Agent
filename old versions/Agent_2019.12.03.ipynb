{
 "cells": [
  {
   "cell_type": "code",
   "execution_count": 1,
   "metadata": {},
   "outputs": [
    {
     "name": "stderr",
     "output_type": "stream",
     "text": [
      "Using TensorFlow backend.\n",
      "C:\\Users\\rdulm\\AppData\\Roaming\\Python\\Python36\\site-packages\\tensorflow\\python\\framework\\dtypes.py:523: FutureWarning: Passing (type, 1) or '1type' as a synonym of type is deprecated; in a future version of numpy, it will be understood as (type, (1,)) / '(1,)type'.\n",
      "  _np_qint8 = np.dtype([(\"qint8\", np.int8, 1)])\n",
      "C:\\Users\\rdulm\\AppData\\Roaming\\Python\\Python36\\site-packages\\tensorflow\\python\\framework\\dtypes.py:524: FutureWarning: Passing (type, 1) or '1type' as a synonym of type is deprecated; in a future version of numpy, it will be understood as (type, (1,)) / '(1,)type'.\n",
      "  _np_quint8 = np.dtype([(\"quint8\", np.uint8, 1)])\n",
      "C:\\Users\\rdulm\\AppData\\Roaming\\Python\\Python36\\site-packages\\tensorflow\\python\\framework\\dtypes.py:525: FutureWarning: Passing (type, 1) or '1type' as a synonym of type is deprecated; in a future version of numpy, it will be understood as (type, (1,)) / '(1,)type'.\n",
      "  _np_qint16 = np.dtype([(\"qint16\", np.int16, 1)])\n",
      "C:\\Users\\rdulm\\AppData\\Roaming\\Python\\Python36\\site-packages\\tensorflow\\python\\framework\\dtypes.py:526: FutureWarning: Passing (type, 1) or '1type' as a synonym of type is deprecated; in a future version of numpy, it will be understood as (type, (1,)) / '(1,)type'.\n",
      "  _np_quint16 = np.dtype([(\"quint16\", np.uint16, 1)])\n",
      "C:\\Users\\rdulm\\AppData\\Roaming\\Python\\Python36\\site-packages\\tensorflow\\python\\framework\\dtypes.py:527: FutureWarning: Passing (type, 1) or '1type' as a synonym of type is deprecated; in a future version of numpy, it will be understood as (type, (1,)) / '(1,)type'.\n",
      "  _np_qint32 = np.dtype([(\"qint32\", np.int32, 1)])\n",
      "C:\\Users\\rdulm\\AppData\\Roaming\\Python\\Python36\\site-packages\\tensorflow\\python\\framework\\dtypes.py:532: FutureWarning: Passing (type, 1) or '1type' as a synonym of type is deprecated; in a future version of numpy, it will be understood as (type, (1,)) / '(1,)type'.\n",
      "  np_resource = np.dtype([(\"resource\", np.ubyte, 1)])\n"
     ]
    }
   ],
   "source": [
    "import numpy as np\n",
    "from sumolib import checkBinary\n",
    "import math\n",
    "import random\n",
    "import time\n",
    "import traci\n",
    "import os\n",
    "import sys\n",
    "import psutil\n",
    "import optparse\n",
    "import keras\n",
    "import tensorflow as tf \n",
    "from keras.utils.vis_utils import plot_model\n",
    "import matplotlib.pyplot as plt\n",
    "\n",
    "config = tf.ConfigProto()\n",
    "config.gpu_options.allow_growth = True\n",
    "\n",
    "from keras.models import Model\n",
    "from keras.layers import Input,Dense,Dropout,dot,Flatten\n",
    "\n",
    "os.environ[\"PATH\"] += os.pathsep + 'D:/Program Files (x86)/Graphviz2.38/bin/'\n",
    "\n",
    "# %matplotlib notebook\n",
    "# plt.rcParams['animation.html'] = 'jshtml'"
   ]
  },
  {
   "cell_type": "markdown",
   "metadata": {},
   "source": [
    "# Vehicle class"
   ]
  },
  {
   "cell_type": "code",
   "execution_count": 2,
   "metadata": {
    "scrolled": true
   },
   "outputs": [],
   "source": [
    "class Vehicle:\n",
    "    def __init__(self,vid,waiting_time,vtype):\n",
    "        self.vid=vid\n",
    "        self.waiting_time=waiting_time\n",
    "        self.vtype=vtype"
   ]
  },
  {
   "cell_type": "markdown",
   "metadata": {},
   "source": [
    "# Environment"
   ]
  },
  {
   "cell_type": "code",
   "execution_count": 3,
   "metadata": {},
   "outputs": [],
   "source": [
    "class Sumo:\n",
    "    \n",
    "    RedYellowGreenStates=[\"rrgrrGGrrrgrrGGr\",\"rGGrrrgrrGGrrrgr\",\"rrgrrrgrrrgrGGGG\",\"GGGGrrgrrrgrrrgr\",\"rrgrGGGGrrgrrrgr\",\"rrgrrrgrGGGGrrgr\",\"GrGrrrGrGrGrrrGr\",\"rrGrGrGrrrGrGrGr\"]\n",
    "    \n",
    "    def __init__(self,K,Z):\n",
    "        self.K=K # K,Z are tunable constants\n",
    "        self.Z=Z\n",
    "        self.nearby_vehicles=[[[],[],[]],[[],[],[]],[[],[],[]],[[],[],[]]]\n",
    "        self.count=0\n",
    "        if 'SUMO_HOME' in os.environ:\n",
    "            tools=os.path.join(os.environ['SUMO_HOME'],'tools')\n",
    "            sys.path.append(tools)\n",
    "   \n",
    "        else: \n",
    "            sys.exit(\"please declare environment variable 'SUMO_HOME'\")\n",
    "            \n",
    "    def getSumoBinary(self):\n",
    "\n",
    "        sumoBinary = checkBinary('sumo-gui')\n",
    "        return sumoBinary\n",
    "    \n",
    "    def getState(self):\n",
    "        incomming_state=np.zeros([12,3]) # definition of a one row is (number of vehicles in that lane,maximum waiting time,emergency or not)\n",
    "        outgoing_state=np.ones(4) #will get the negetive impact of this [Left,Right,Bottom,Top]\n",
    "        for i in range(1,5):\n",
    "            for j in range(0,3):\n",
    "                all_vehicles_on_lane = traci.lane.getLastStepVehicleIDs(str(i)+\"si_\"+str(j))\n",
    "                \n",
    "                for vehicle in self.nearby_vehicles[i-1][j]:# removing the vehicle from the memory which has went through the junction\n",
    "                    if vehicle.vid not in all_vehicles_on_lane:\n",
    "                        nearby_vehicle_on_lane=self.nearby_vehicles[i-1][j]\n",
    "                        nearby_vehicle_on_lane.remove(vehicle)\n",
    "                        self.nearby_vehicles[i-1][j]=nearby_vehicle_on_lane\n",
    "                        \n",
    "                for vehicle_id in all_vehicles_on_lane:\n",
    "#                     getLanePosition outputs the position of the vehicle with respect to start end of the lane that is not the junction side\n",
    "                    if(traci.vehicle.getLanePosition(vehicle_id)>=132):# consider vehicles which is 100M near or less to the junction lan length is 232\n",
    "                        flag=1\n",
    "                        for e,vehicle in enumerate(self.nearby_vehicles[i-1][j]):\n",
    "                            if vehicle.vid==vehicle_id: #checking for exsisting vehicles\n",
    "                                vehicle.waiting_time+=1\n",
    "                                vehicle_list=self.nearby_vehicles[i-1][j]\n",
    "                                vehicle_list[e]=vehicle # replace the old vehicle object with updated one\n",
    "                                self.nearby_vehicles[i-1][j]=vehicle_list\n",
    "                                flag=0\n",
    "                                break\n",
    "                        if(flag):\n",
    "                            #register the new vehicle\n",
    "                            new_vehicle_obj=Vehicle(vehicle_id,0,traci.vehicle.getTypeID(vehicle_id))\n",
    "                            nearby_vehicle_on_lane=self.nearby_vehicles[i-1][j]\n",
    "                            nearby_vehicle_on_lane.append(new_vehicle_obj)\n",
    "                            self.nearby_vehicles[i-1][j]=nearby_vehicle_on_lane\n",
    "                            \n",
    "                #prepairing incomming state          \n",
    "                emergency_waiting_time=0\n",
    "                maximum_waiting_time=0\n",
    "                for vehicle in self.nearby_vehicles[i-1][j]:\n",
    "                    if vehicle.vtype == \"emergency\":\n",
    "                        if vehicle.waiting_time > emergency_waiting_time:\n",
    "                            emergency_waiting_time = vehicle.waiting_time\n",
    "                    if vehicle.waiting_time > maximum_waiting_time:\n",
    "                        maximum_waiting_time = vehicle.waiting_time\n",
    "                        \n",
    "                #Scalling state representation\n",
    "                #maximum waiting time of a vehicle is 100s\n",
    "                #maximum number of vehicles that can be fit in to 100M range is 17   \n",
    "                incomming_state[j+(i-1)*3][0] = len(self.nearby_vehicles[i-1][j])/17\n",
    "                \n",
    "                if(maximum_waiting_time>100):\n",
    "                    incomming_state[j+(i-1)*3][1] = 1\n",
    "                else:\n",
    "                    incomming_state[j+(i-1)*3][1] = maximum_waiting_time/100\n",
    "                 \n",
    "                if(emergency_waiting_time>100):\n",
    "                    incomming_state[j+(i-1)*3][2] = 1\n",
    "                else:\n",
    "                    incomming_state[j+(i-1)*3][2] = emergency_waiting_time/100\n",
    "                \n",
    "        \n",
    "            #prepairing outgoing state      \n",
    "            for vehicle_id in traci.lane.getLastStepVehicleIDs(str(i)+\"o_0\"):\n",
    "                if(traci.vehicle.getLanePosition(vehicle_id) >= 386):#length of an outgoing road is 486M\n",
    "                    outgoing_state[i-1] = outgoing_state[i-1]-1/17 # - because of to get the negetive impact when the road is blocked\n",
    "       \n",
    "            #transforming outgoing state into attention state\n",
    "            outgoing_state_final=np.ones(12)\n",
    "            outgoing_state_final[4] = outgoing_state_final[6] = outgoing_state_final[11] = outgoing_state[0]\n",
    "            outgoing_state_final[1] = outgoing_state_final[8] = outgoing_state_final[9] = outgoing_state[1]\n",
    "            outgoing_state_final[2] = outgoing_state_final[3] = outgoing_state_final[10] = outgoing_state[2]\n",
    "            outgoing_state_final[0] = outgoing_state_final[5] = outgoing_state_final[7] = outgoing_state[3]\n",
    "            \n",
    "        return [incomming_state.reshape(1,12,3),outgoing_state_final.reshape(1,12,1)]\n",
    "        \n",
    "    def changePhase(self,next_phase_index):\n",
    "        current_phase=traci.trafficlight.getRedYellowGreenState('0')\n",
    "        next_phase=self.RedYellowGreenStates[next_phase_index]\n",
    "        \n",
    "        \n",
    "        if(next_phase != current_phase):#generate yellow phase\n",
    "            yellow_phase = \"\"\n",
    "            for i in range(0, len(current_phase)):\n",
    "                if(current_phase[i].lower()==\"g\" and next_phase[i].lower()==\"r\"):\n",
    "\n",
    "                    yellow_phase = yellow_phase+\"y\"\n",
    "                else:\n",
    "                    yellow_phase = yellow_phase+current_phase[i]\n",
    "\n",
    "            traci.trafficlight.setRedYellowGreenState('0',yellow_phase) #set yellow phase\n",
    "\n",
    "            for i in range(3): # allow yellow phase for 3 seconds\n",
    "                traci.simulationStep()\n",
    "                \n",
    "        traci.trafficlight.setRedYellowGreenState('0',next_phase)\n",
    "        return\n",
    "    \n",
    "    def reward(self,current_state):\n",
    "            \n",
    "        #calculating the mean and the variance of the distribution    \n",
    "        reg_wainting_time_mean =  np.mean(current_state[0][0][:,1])\n",
    "        reg_wainting_time_variance = np.var(current_state[0][0][:,1])\n",
    "        \n",
    "        emg_wainting_time_mean =  np.mean(current_state[1][0])\n",
    "        emg_wainting_time_variance = np.var(current_state[1][0])\n",
    "#         print(current_state[0])\n",
    "#         print(reg_wainting_time_mean)\n",
    "        reward = -((reg_wainting_time_mean + self.K*reg_wainting_time_variance) + self.Z*(emg_wainting_time_mean + self.K*emg_wainting_time_variance)) \n",
    "        \n",
    "        return reward,round(reg_wainting_time_mean*100,2),round(emg_wainting_time_mean*100,2),round(reg_wainting_time_variance*100,2),round(emg_wainting_time_variance*100,2)\n"
   ]
  },
  {
   "cell_type": "markdown",
   "metadata": {},
   "source": [
    "# Deep Q-network"
   ]
  },
  {
   "cell_type": "code",
   "execution_count": 4,
   "metadata": {},
   "outputs": [],
   "source": [
    "def createDQN():\n",
    "    incomming_vehicles=Input(shape=(12,3))\n",
    "    outgoing_vehicles=Input(shape=(12,1))\n",
    "    \n",
    "    Dense1_out=Dense(20,name=\"Dense1\",activation='relu')(incomming_vehicles)\n",
    "    Dense2_out=Dense(10,name=\"Dense2\",activation='relu')(Dense1_out)\n",
    "    Dropout1_out=Dropout(.2,name=\"Dropout1\")(Dense2_out)\n",
    "    Dense3_out=Dense(5,name=\"Dense3\",activation='relu')(Dropout1_out)\n",
    "    \n",
    "    Dense4_out=Dense(1,name=\"Dense4\",activation='relu')(outgoing_vehicles)\n",
    "    Dot_out=dot([Dense3_out,Dense4_out],axes=1, normalize=False)\n",
    "    Flatten_out=Flatten()(Dot_out)\n",
    "    \n",
    "    Dense5_out=Dense(8,name=\"Dense5\")(Flatten_out)#no activation function for last layer\n",
    "    \n",
    "    model = Model(inputs=[incomming_vehicles,outgoing_vehicles], outputs=[Dense5_out])\n",
    "    model.compile(optimizer=\"Adam\",loss=\"categorical_crossentropy\")\n",
    "    plot_model(model, to_file='model_plot.png', show_shapes=True, show_layer_names=True)\n",
    "    return model"
   ]
  },
  {
   "cell_type": "markdown",
   "metadata": {},
   "source": [
    "# Replay Memory"
   ]
  },
  {
   "cell_type": "code",
   "execution_count": 5,
   "metadata": {},
   "outputs": [],
   "source": [
    "class ReplayMemory:\n",
    "    def __init__(self,capacity,initial_state,initial_action):\n",
    "        self.capacity=capacity\n",
    "        self.replay_memory=[]\n",
    "        self.push_count=0\n",
    "        self.buffer_state=initial_state\n",
    "        self.buffer_action=initial_action\n",
    "    \n",
    "    #also the next state cannot be directly observerd here because it takes time for vehicles to move and actualy become another\n",
    "    #state after making a decision.\n",
    "    def addToReplayBuffuer(self,current_state,action,reward):#here the reward is reward for the previous action\n",
    "        \n",
    "        experience=[self.buffer_state,self.buffer_action,reward,current_state]\n",
    "        #buffer_state and buffer_action contains the previous state and the action now this reward and current state is corresponding to that experience\n",
    "        self.buffer_state=current_state\n",
    "        self.buffer_action=action\n",
    "        \n",
    "        if(len(self.replay_memory)<self.capacity):\n",
    "            self.replay_memory.append(experience)\n",
    "        else:\n",
    "                # replace the oldest  experience with the new one in replay memory\n",
    "            self.replay_memory[self.push_count%self.capacity]=experience\n",
    "            self.push_count +=1\n",
    "            \n",
    "    def replay(self,replay_batch_size):\n",
    "\n",
    "        if len(self.replay_memory) < replay_batch_size: \n",
    "            return\n",
    "\n",
    "        replay_samples = random.sample(self.replay_memory, replay_batch_size)\n",
    "#         print('experience replay....')\n",
    "        for sample in replay_samples:\n",
    "\n",
    "            state, action, reward, new_state = sample\n",
    "            \n",
    "            target = PolicyNetwork.predict(state)\n",
    "            \n",
    "            #only with fixed q targets\n",
    "            #Q_future = max(TargetNetwork.predict(new_state)[0])\n",
    "            \n",
    "            #with double network concept\n",
    "            best_action_new_state = np.argmax(PolicyNetwork.predict(new_state)[0])\n",
    "            Q_future = TargetNetwork.predict(new_state)[0][best_action_new_state] \n",
    "            #q value for the best action from the target network\n",
    "            \n",
    "            \n",
    "#             print(TargetNetwork.predict(new_state)[0])\n",
    "            target[0][action] = reward + Q_future * gamma\n",
    "            PolicyNetwork.fit(state, target, epochs=1, verbose=0)\n"
   ]
  },
  {
   "cell_type": "markdown",
   "metadata": {},
   "source": [
    "# Agent"
   ]
  },
  {
   "cell_type": "code",
   "execution_count": 6,
   "metadata": {},
   "outputs": [],
   "source": [
    "class Agent:\n",
    "    \n",
    "    def __init__(self,tau):\n",
    "        self.step_number=0\n",
    "        self.tau = tau\n",
    "         \n",
    "    def getAction(self,state):\n",
    "        epsilon = math.exp(-1.*self.step_number*epsilon_decay)\n",
    "        epsilon = max(epsilon_min, epsilon)\n",
    "        self.step_number+=1\n",
    "        if np.random.random() < epsilon:\n",
    "            return np.random.randint(1,action_space)\n",
    "        else:\n",
    "            return np.argmax(PolicyNetwork.predict(state)[0])\n",
    "             \n",
    "    def update_target_graph(self):\n",
    "        weights = PolicyNetwork.get_weights()\n",
    "        target_weights =TargetNetwork.get_weights()\n",
    "        for i in range(len(target_weights)):\n",
    "            target_weights[i] = weights[i] * self.tau + target_weights[i] * (1 - self.tau)\n",
    "        TargetNetwork.set_weights(target_weights)    \n",
    "        "
   ]
  },
  {
   "cell_type": "code",
   "execution_count": 19,
   "metadata": {},
   "outputs": [
    {
     "name": "stdout",
     "output_type": "stream",
     "text": [
      "__________________________________________________________________________________________________\n",
      "Layer (type)                    Output Shape         Param #     Connected to                     \n",
      "==================================================================================================\n",
      "input_5 (InputLayer)            (None, 12, 3)        0                                            \n",
      "__________________________________________________________________________________________________\n",
      "Dense1 (Dense)                  (None, 12, 20)       80          input_5[0][0]                    \n",
      "__________________________________________________________________________________________________\n",
      "Dense2 (Dense)                  (None, 12, 10)       210         Dense1[0][0]                     \n",
      "__________________________________________________________________________________________________\n",
      "Dropout1 (Dropout)              (None, 12, 10)       0           Dense2[0][0]                     \n",
      "__________________________________________________________________________________________________\n",
      "input_6 (InputLayer)            (None, 12, 1)        0                                            \n",
      "__________________________________________________________________________________________________\n",
      "Dense3 (Dense)                  (None, 12, 5)        55          Dropout1[0][0]                   \n",
      "__________________________________________________________________________________________________\n",
      "Dense4 (Dense)                  (None, 12, 1)        2           input_6[0][0]                    \n",
      "__________________________________________________________________________________________________\n",
      "dot_3 (Dot)                     (None, 5, 1)         0           Dense3[0][0]                     \n",
      "                                                                 Dense4[0][0]                     \n",
      "__________________________________________________________________________________________________\n",
      "flatten_3 (Flatten)             (None, 5)            0           dot_3[0][0]                      \n",
      "__________________________________________________________________________________________________\n",
      "Dense5 (Dense)                  (None, 8)            48          flatten_3[0][0]                  \n",
      "==================================================================================================\n",
      "Total params: 395\n",
      "Trainable params: 395\n",
      "Non-trainable params: 0\n",
      "__________________________________________________________________________________________________\n"
     ]
    }
   ],
   "source": [
    "action_space=8 #action is to choose next phase,agent will take an action within last 4seconds of the current phase\n",
    "minimum_phase_duration=12\n",
    "PolicyNetwork=createDQN()\n",
    "PolicyNetwork.summary()\n",
    "TargetNetwork=createDQN()\n",
    "#parameaters to be tuned\n",
    "\n",
    "gamma = 0.85\n",
    "epsilon = 1.0\n",
    "epsilon_min = 0.08\n",
    "epsilon_decay = 0.0001\n",
    "learning_rate = 0.005\n",
    "tau = .125\n",
    "replay_memory_capacity=70000\n",
    "\n",
    "decisions_per_episode=10\n",
    "replay_batch_size=256"
   ]
  },
  {
   "cell_type": "markdown",
   "metadata": {},
   "source": [
    "# Plot history"
   ]
  },
  {
   "cell_type": "code",
   "execution_count": 20,
   "metadata": {},
   "outputs": [],
   "source": [
    "def plot(episode_count,history,ylabel,color,label):\n",
    "    ax.plot(episode_count,history,color=color, label=label)\n",
    "    ax.set_xlabel('number of episodes')\n",
    "    ax.set_ylabel(ylabel)\n",
    "    ax.set_title('Training....')\n",
    "    fig.canvas.draw()\n",
    "    "
   ]
  },
  {
   "cell_type": "markdown",
   "metadata": {},
   "source": [
    "# Training"
   ]
  },
  {
   "cell_type": "code",
   "execution_count": 21,
   "metadata": {
    "scrolled": true
   },
   "outputs": [
    {
     "ename": "FatalTraCIError",
     "evalue": "connection closed by SUMO",
     "output_type": "error",
     "traceback": [
      "\u001b[1;31m---------------------------------------------------------------------------\u001b[0m",
      "\u001b[1;31mFatalTraCIError\u001b[0m                           Traceback (most recent call last)",
      "\u001b[1;32m<ipython-input-21-26c1d7beeca5>\u001b[0m in \u001b[0;36m<module>\u001b[1;34m\u001b[0m\n\u001b[0;32m     18\u001b[0m \u001b[1;32mwhile\u001b[0m \u001b[0mtraci\u001b[0m\u001b[1;33m.\u001b[0m\u001b[0msimulation\u001b[0m\u001b[1;33m.\u001b[0m\u001b[0mgetMinExpectedNumber\u001b[0m\u001b[1;33m(\u001b[0m\u001b[1;33m)\u001b[0m\u001b[1;33m>\u001b[0m\u001b[1;36m0\u001b[0m\u001b[1;33m:\u001b[0m\u001b[1;33m\u001b[0m\u001b[0m\n\u001b[0;32m     19\u001b[0m \u001b[1;33m\u001b[0m\u001b[0m\n\u001b[1;32m---> 20\u001b[1;33m         \u001b[0mtraci\u001b[0m\u001b[1;33m.\u001b[0m\u001b[0msimulationStep\u001b[0m\u001b[1;33m(\u001b[0m\u001b[1;33m)\u001b[0m\u001b[1;33m\u001b[0m\u001b[0m\n\u001b[0m\u001b[0;32m     21\u001b[0m \u001b[1;33m\u001b[0m\u001b[0m\n\u001b[0;32m     22\u001b[0m         \u001b[1;32mif\u001b[0m\u001b[1;33m(\u001b[0m\u001b[0mcount\u001b[0m\u001b[1;33m==\u001b[0m\u001b[1;36m12\u001b[0m\u001b[1;33m)\u001b[0m\u001b[1;33m:\u001b[0m\u001b[1;31m#agent will make a decision at the 12th second of the current phase\u001b[0m\u001b[1;33m\u001b[0m\u001b[0m\n",
      "\u001b[1;32mD:\\Program Files (x86)\\Eclipse\\Sumo\\tools\\traci\\__init__.py\u001b[0m in \u001b[0;36msimulationStep\u001b[1;34m(step)\u001b[0m\n\u001b[0;32m    125\u001b[0m     \"\"\"\n\u001b[0;32m    126\u001b[0m     \u001b[1;32mglobal\u001b[0m \u001b[0m_stepListeners\u001b[0m\u001b[1;33m\u001b[0m\u001b[0m\n\u001b[1;32m--> 127\u001b[1;33m     \u001b[0mresponses\u001b[0m \u001b[1;33m=\u001b[0m \u001b[0m_connections\u001b[0m\u001b[1;33m[\u001b[0m\u001b[1;34m\"\"\u001b[0m\u001b[1;33m]\u001b[0m\u001b[1;33m.\u001b[0m\u001b[0msimulationStep\u001b[0m\u001b[1;33m(\u001b[0m\u001b[0mstep\u001b[0m\u001b[1;33m)\u001b[0m\u001b[1;33m\u001b[0m\u001b[0m\n\u001b[0m\u001b[0;32m    128\u001b[0m \u001b[1;33m\u001b[0m\u001b[0m\n\u001b[0;32m    129\u001b[0m     \u001b[1;31m# manage stepListeners\u001b[0m\u001b[1;33m\u001b[0m\u001b[1;33m\u001b[0m\u001b[0m\n",
      "\u001b[1;32mD:\\Program Files (x86)\\Eclipse\\Sumo\\tools\\traci\\connection.py\u001b[0m in \u001b[0;36msimulationStep\u001b[1;34m(self, step)\u001b[0m\n\u001b[0;32m    321\u001b[0m         \u001b[0mself\u001b[0m\u001b[1;33m.\u001b[0m\u001b[0m_queue\u001b[0m\u001b[1;33m.\u001b[0m\u001b[0mappend\u001b[0m\u001b[1;33m(\u001b[0m\u001b[0mtc\u001b[0m\u001b[1;33m.\u001b[0m\u001b[0mCMD_SIMSTEP\u001b[0m\u001b[1;33m)\u001b[0m\u001b[1;33m\u001b[0m\u001b[0m\n\u001b[0;32m    322\u001b[0m         \u001b[0mself\u001b[0m\u001b[1;33m.\u001b[0m\u001b[0m_string\u001b[0m \u001b[1;33m+=\u001b[0m \u001b[0mstruct\u001b[0m\u001b[1;33m.\u001b[0m\u001b[0mpack\u001b[0m\u001b[1;33m(\u001b[0m\u001b[1;34m\"!BBd\"\u001b[0m\u001b[1;33m,\u001b[0m \u001b[1;36m1\u001b[0m \u001b[1;33m+\u001b[0m \u001b[1;36m1\u001b[0m \u001b[1;33m+\u001b[0m \u001b[1;36m8\u001b[0m\u001b[1;33m,\u001b[0m \u001b[0mtc\u001b[0m\u001b[1;33m.\u001b[0m\u001b[0mCMD_SIMSTEP\u001b[0m\u001b[1;33m,\u001b[0m \u001b[0mstep\u001b[0m\u001b[1;33m)\u001b[0m\u001b[1;33m\u001b[0m\u001b[0m\n\u001b[1;32m--> 323\u001b[1;33m         \u001b[0mresult\u001b[0m \u001b[1;33m=\u001b[0m \u001b[0mself\u001b[0m\u001b[1;33m.\u001b[0m\u001b[0m_sendExact\u001b[0m\u001b[1;33m(\u001b[0m\u001b[1;33m)\u001b[0m\u001b[1;33m\u001b[0m\u001b[0m\n\u001b[0m\u001b[0;32m    324\u001b[0m         \u001b[1;32mfor\u001b[0m \u001b[0msubscriptionResults\u001b[0m \u001b[1;32min\u001b[0m \u001b[0mself\u001b[0m\u001b[1;33m.\u001b[0m\u001b[0m_subscriptionMapping\u001b[0m\u001b[1;33m.\u001b[0m\u001b[0mvalues\u001b[0m\u001b[1;33m(\u001b[0m\u001b[1;33m)\u001b[0m\u001b[1;33m:\u001b[0m\u001b[1;33m\u001b[0m\u001b[0m\n\u001b[0;32m    325\u001b[0m             \u001b[0msubscriptionResults\u001b[0m\u001b[1;33m.\u001b[0m\u001b[0mreset\u001b[0m\u001b[1;33m(\u001b[0m\u001b[1;33m)\u001b[0m\u001b[1;33m\u001b[0m\u001b[0m\n",
      "\u001b[1;32mD:\\Program Files (x86)\\Eclipse\\Sumo\\tools\\traci\\connection.py\u001b[0m in \u001b[0;36m_sendExact\u001b[1;34m(self)\u001b[0m\n\u001b[0;32m     97\u001b[0m             \u001b[0mself\u001b[0m\u001b[1;33m.\u001b[0m\u001b[0m_socket\u001b[0m\u001b[1;33m.\u001b[0m\u001b[0mclose\u001b[0m\u001b[1;33m(\u001b[0m\u001b[1;33m)\u001b[0m\u001b[1;33m\u001b[0m\u001b[0m\n\u001b[0;32m     98\u001b[0m             \u001b[1;32mdel\u001b[0m \u001b[0mself\u001b[0m\u001b[1;33m.\u001b[0m\u001b[0m_socket\u001b[0m\u001b[1;33m\u001b[0m\u001b[0m\n\u001b[1;32m---> 99\u001b[1;33m             \u001b[1;32mraise\u001b[0m \u001b[0mFatalTraCIError\u001b[0m\u001b[1;33m(\u001b[0m\u001b[1;34m\"connection closed by SUMO\"\u001b[0m\u001b[1;33m)\u001b[0m\u001b[1;33m\u001b[0m\u001b[0m\n\u001b[0m\u001b[0;32m    100\u001b[0m         \u001b[1;32mfor\u001b[0m \u001b[0mcommand\u001b[0m \u001b[1;32min\u001b[0m \u001b[0mself\u001b[0m\u001b[1;33m.\u001b[0m\u001b[0m_queue\u001b[0m\u001b[1;33m:\u001b[0m\u001b[1;33m\u001b[0m\u001b[0m\n\u001b[0;32m    101\u001b[0m             \u001b[0mprefix\u001b[0m \u001b[1;33m=\u001b[0m \u001b[0mresult\u001b[0m\u001b[1;33m.\u001b[0m\u001b[0mread\u001b[0m\u001b[1;33m(\u001b[0m\u001b[1;34m\"!BBB\"\u001b[0m\u001b[1;33m)\u001b[0m\u001b[1;33m\u001b[0m\u001b[0m\n",
      "\u001b[1;31mFatalTraCIError\u001b[0m: connection closed by SUMO"
     ]
    }
   ],
   "source": [
    "sumo_env=Sumo(K=1,Z=2)\n",
    "initial_state=[np.zeros([12,3]).reshape(1,12,3),np.zeros([12,1]).reshape(1,12,1)]\n",
    "replayMemory=ReplayMemory(replay_memory_capacity,initial_state,0)\n",
    "agent=Agent(tau)\n",
    "\n",
    "traci.start([sumo_env.getSumoBinary(), \"-c\", \"cross3ltl.sumocfg\", '--start'])\n",
    "\n",
    "count=1   \n",
    "decision_count=1\n",
    "episode_count=[]\n",
    "regular_waiting_history=[]\n",
    "emergency_waiting_history=[]\n",
    "regular_var_history=[]\n",
    "emergency_var_history=[]\n",
    "reward_history=[]\n",
    "episode_no=1\n",
    "\n",
    "while traci.simulation.getMinExpectedNumber()>0:\n",
    "  \n",
    "        traci.simulationStep()\n",
    "\n",
    "        if(count==12):#agent will make a decision at the 12th second of the current phase\n",
    "            current_state=sumo_env.getState()\n",
    "            action=agent.getAction(current_state)\n",
    "            sumo_env.changePhase(action)\n",
    "          \n",
    "            count=1\n",
    "            \n",
    "            reward,regular_waiting,emergency_waiting,regular_var,emg_var=sumo_env.reward(current_state)\n",
    "            replayMemory.addToReplayBuffuer(current_state,action,reward)\n",
    "            \n",
    "            if(decision_count==decisions_per_episode):\n",
    "                \n",
    "                decision_count=1\n",
    "               \n",
    "                agent.update_target_graph()#updating target graph is performed after each episode\n",
    "                episode_count.append(episode_no)\n",
    "                episode_no+=1\n",
    "                \n",
    "                regular_waiting_history.append(regular_waiting)\n",
    "                emergency_waiting_history.append(emergency_waiting)\n",
    "                \n",
    "                regular_var_history.append(regular_var)\n",
    "                emergency_var_history.append(emg_var)\n",
    "                \n",
    "                reward_history.append(reward)\n",
    "                \n",
    "                replayMemory.replay(replay_batch_size)#experience replay is performed after each episode\n",
    "#                 print('reg_waiting : ',regular_waiting,'emg_waiting : ',emergency_waiting,'reg_var : ',regular_var,'emg_var : ',emg_var,'reward : ',reward_history)\n",
    "            else:\n",
    "                decision_count+=1\n",
    "        else:\n",
    "            count+=1\n",
    "            \n",
    "traci.close()"
   ]
  },
  {
   "cell_type": "code",
   "execution_count": 10,
   "metadata": {},
   "outputs": [
    {
     "name": "stderr",
     "output_type": "stream",
     "text": [
      "d:\\program files\\python\\lib\\site-packages\\matplotlib\\figure.py:445: UserWarning: Matplotlib is currently using module://ipykernel.pylab.backend_inline, which is a non-GUI backend, so cannot show the figure.\n",
      "  % get_backend())\n"
     ]
    },
    {
     "data": {
      "text/plain": [
       "<matplotlib.legend.Legend at 0x238fb5d8f98>"
      ]
     },
     "execution_count": 10,
     "metadata": {},
     "output_type": "execute_result"
    },
    {
     "data": {
      "image/png": "[encoded data removed]",
      "text/plain": [
       "<Figure size 432x288 with 1 Axes>"
      ]
     },
     "metadata": {
      "needs_background": "light"
     },
     "output_type": "display_data"
    }
   ],
   "source": [
    "# vehicle average waiting time history\n",
    "fig=plt.figure()\n",
    "ax= fig.add_subplot(111)\n",
    "fig.show()\n",
    "\n",
    "plot(episode_count,regular_waiting_history,'average waiting time',color='green',label='regular vehicle')\n",
    "plot(episode_count,emergency_waiting_history,'average waiting time',color='red',label='emergency vehicle')\n",
    "fig.legend()"
   ]
  },
  {
   "cell_type": "code",
   "execution_count": 11,
   "metadata": {},
   "outputs": [
    {
     "data": {
      "text/plain": [
       "<matplotlib.legend.Legend at 0x238ff6e9d30>"
      ]
     },
     "execution_count": 11,
     "metadata": {},
     "output_type": "execute_result"
    },
    {
     "data": {
      "image/png": "[encoded data removed]",
      "text/plain": [
       "<Figure size 432x288 with 1 Axes>"
      ]
     },
     "metadata": {
      "needs_background": "light"
     },
     "output_type": "display_data"
    }
   ],
   "source": [
    "# vehicle waiting time variance history\n",
    "fig=plt.figure()\n",
    "ax= fig.add_subplot(111)\n",
    "fig.show()\n",
    "\n",
    "plot(episode_count,regular_var_history,'waiting time variance',color='green',label='regular vehicle variance')\n",
    "plot(episode_count,emergency_var_history,'waiting time variance',color='red',label='emergency vehicle variance')\n",
    "fig.legend()"
   ]
  },
  {
   "cell_type": "code",
   "execution_count": 22,
   "metadata": {},
   "outputs": [
    {
     "data": {
      "text/plain": [
       "<matplotlib.legend.Legend at 0x2391bd47198>"
      ]
     },
     "execution_count": 22,
     "metadata": {},
     "output_type": "execute_result"
    },
    {
     "data": {
      "image/png": "[encoded data removed]",
      "text/plain": [
       "<Figure size 432x288 with 1 Axes>"
      ]
     },
     "metadata": {
      "needs_background": "light"
     },
     "output_type": "display_data"
    }
   ],
   "source": [
    "#reward history\n",
    "fig=plt.figure()\n",
    "ax= fig.add_subplot(111)\n",
    "fig.show()\n",
    "\n",
    "plot(episode_count,reward_history,'reward',color='blue',label='reward')\n",
    "fig.legend()"
   ]
  },
  {
   "cell_type": "code",
   "execution_count": null,
   "metadata": {},
   "outputs": [],
   "source": []
  }
 ],
 "metadata": {
  "kernelspec": {
   "display_name": "Python 3",
   "language": "python",
   "name": "python3"
  },
  "language_info": {
   "codemirror_mode": {
    "name": "ipython",
    "version": 3
   },
   "file_extension": ".py",
   "mimetype": "text/x-python",
   "name": "python",
   "nbconvert_exporter": "python",
   "pygments_lexer": "ipython3",
   "version": "3.6.6"
  }
 },
 "nbformat": 4,
 "nbformat_minor": 2
}
